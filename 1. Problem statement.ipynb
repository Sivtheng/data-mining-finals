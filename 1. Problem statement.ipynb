{
 "cells": [
  {
   "cell_type": "markdown",
   "id": "aa5ef349",
   "metadata": {},
   "source": [
    "### Main topic\n",
    "- Tourism\n"
   ]
  },
  {
   "cell_type": "markdown",
   "id": "9469874a",
   "metadata": {},
   "source": [
    "### Describe what questions do you try to solve?\n",
    "- Do public holidays and festival periods in Thailand lead to significant increases in Airbnb prices in Bangkok?\n",
    "- The goal is to develop a predictive model that accounts for holiday and festival effects, enabling more accurate price predictions for Airbnb listings during high-demand periods."
   ]
  },
  {
   "cell_type": "code",
   "execution_count": null,
   "id": "8d17c382-e660-45a8-86fa-50f4b2fb223b",
   "metadata": {},
   "outputs": [],
   "source": []
  }
 ],
 "metadata": {
  "kernelspec": {
   "display_name": "Python 3 (ipykernel)",
   "language": "python",
   "name": "python3"
  },
  "language_info": {
   "codemirror_mode": {
    "name": "ipython",
    "version": 3
   },
   "file_extension": ".py",
   "mimetype": "text/x-python",
   "name": "python",
   "nbconvert_exporter": "python",
   "pygments_lexer": "ipython3",
   "version": "3.9.6"
  }
 },
 "nbformat": 4,
 "nbformat_minor": 5
}
