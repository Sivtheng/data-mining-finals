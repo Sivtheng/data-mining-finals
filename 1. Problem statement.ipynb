{
 "cells": [
  {
   "cell_type": "markdown",
   "id": "aa5ef349",
   "metadata": {},
   "source": [
    "### Main topic\n",
    "- Tourism\n"
   ]
  },
  {
   "cell_type": "markdown",
   "id": "9469874a",
   "metadata": {},
   "source": [
    "### Describe what questions do you try to solve?\n",
    "- Do public holidays and festival periods in Thailand lead to significant increases in Airbnb prices in Bangkok?\n",
    "- Can a predictive model account for holiday and festival effects to improve Airbnb price predictions during high-demand periods?\n",
    "- The goal is to build a model that helps predict Airbnb prices more accurately by considering tourism trends, seasonality, and holiday effects."
   ]
  }
 ],
 "metadata": {
  "kernelspec": {
   "display_name": "Python 3 (ipykernel)",
   "language": "python",
   "name": "python3"
  },
  "language_info": {
   "codemirror_mode": {
    "name": "ipython",
    "version": 3
   },
   "file_extension": ".py",
   "mimetype": "text/x-python",
   "name": "python",
   "nbconvert_exporter": "python",
   "pygments_lexer": "ipython3",
   "version": "3.13.1"
  }
 },
 "nbformat": 4,
 "nbformat_minor": 5
}
