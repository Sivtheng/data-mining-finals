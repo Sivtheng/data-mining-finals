{
 "cells": [
  {
   "cell_type": "markdown",
   "id": "922aac5f",
   "metadata": {},
   "source": [
    "### Describe your finding and conclusion"
   ]
  },
  {
   "cell_type": "markdown",
   "id": "c3f4bf76",
   "metadata": {},
   "source": [
    "# Findings and Conclusion\n",
    "##Findings:\n",
    "\n",
    "- After experimenting with different models (XGBoost, Random Forest, and linear models like Ridge, Lasso, and ElasticNet), the performance was generally lower than expected, with RMSE values being quite high and R² values close to zero.\n",
    "- XGBoost gave the best performance in terms of hyperparameter tuning but still struggled with a low R² (~0.09). This suggests the model couldn't effectively capture the complex patterns in the dataset.\n",
    "- Random Forest also didn’t perform well, with an R² close to zero, indicating that the model couldn't explain much of the variance in the target variable.\n",
    "- The Ridge, Lasso, and ElasticNet models showed similar performance, all providing high RMSE values (around 11,900) and negative R², suggesting that they weren’t able to fit the data well. These linear models couldn't capture the complex non-linear relationships between the features and price.\n",
    "\n",
    "## Conclusion:\n",
    "\n",
    "- The main reason for the low performance across all models likely stems from the complexity of the problem and the limitations of the models we used. Predicting Airbnb prices in Bangkok is a challenging task because it's influenced by many non-linear factors like tourism trends, local events, and holidays, which may not have been captured sufficiently by the models.\n",
    "- Another key issue could be the dataset itself, which might lack enough detail or variety to make accurate predictions. This could involve more granular features (such as location, specific room types, or tourist behavior) or a larger dataset with more examples to learn from.\n",
    "\n",
    "## Potential Improvements:\n",
    "\n",
    "- We could explore other feature engineering techniques, like including more specific data on holidays, room types, and neighborhood details.\n",
    "- We might also consider more complex models or a combination of models, such as ensemble methods or deep learning, for capturing more intricate patterns in the data. (But this is already finals so probably not)"
   ]
  }
 ],
 "metadata": {
  "kernelspec": {
   "display_name": "Python 3 (ipykernel)",
   "language": "python",
   "name": "python3"
  },
  "language_info": {
   "codemirror_mode": {
    "name": "ipython",
    "version": 3
   },
   "file_extension": ".py",
   "mimetype": "text/x-python",
   "name": "python",
   "nbconvert_exporter": "python",
   "pygments_lexer": "ipython3",
   "version": "3.13.1"
  }
 },
 "nbformat": 4,
 "nbformat_minor": 5
}
