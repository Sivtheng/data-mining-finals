{
 "cells": [
  {
   "cell_type": "markdown",
   "id": "57dc52d7",
   "metadata": {},
   "source": [
    "#### Example\n",
    "\n",
    "- How you get the dataset?\n",
    "- Link/Script to donwload data."
   ]
  },
  {
   "cell_type": "markdown",
   "id": "85ead8cd",
   "metadata": {},
   "source": [
    "#### AirBnB data for Bangkok\n",
    "- https://insideairbnb.com/get-the-data/\n",
    "#### Thailand tourism data 2023 and 2024 (End of Covid Era)\n",
    "- https://www.mots.go.th/news/category/758\n",
    "#### Public holidays in Thailand\n",
    "- I made the csv myself based on Thailand's public holiday calendar."
   ]
  }
 ],
 "metadata": {
  "kernelspec": {
   "display_name": "Python 3 (ipykernel)",
   "language": "python",
   "name": "python3"
  },
  "language_info": {
   "codemirror_mode": {
    "name": "ipython",
    "version": 3
   },
   "file_extension": ".py",
   "mimetype": "text/x-python",
   "name": "python",
   "nbconvert_exporter": "python",
   "pygments_lexer": "ipython3",
   "version": "3.11.4"
  }
 },
 "nbformat": 4,
 "nbformat_minor": 5
}
